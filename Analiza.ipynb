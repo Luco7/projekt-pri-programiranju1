{
 "cells": [
  {
   "cell_type": "markdown",
   "metadata": {},
   "source": [
    "# Lestvice najboljših šahistov na svetu"
   ]
  },
  {
   "cell_type": "markdown",
   "metadata": {},
   "source": [
    "Projekt pri predmetu Programiranje 1. Analiza podatkov na temo ratinških lestvic šaha v obdobju od julija 2000 do oktobra 2016."
   ]
  },
  {
   "cell_type": "markdown",
   "metadata": {},
   "source": [
    "## Podatki"
   ]
  },
  {
   "cell_type": "markdown",
   "metadata": {},
   "source": [
    "Podatki so bili najdeni na spletni strani mednarodne šahovske zveze, https://ratings.fide.com/ \n",
    "ter nato pretvorjeni v datoteko CSV."
   ]
  },
  {
   "cell_type": "code",
   "execution_count": 88,
   "metadata": {
    "collapsed": true
   },
   "outputs": [],
   "source": [
    "import pandas as pd\n",
    "\n",
    "sahisti=pd.read_csv('sahisti.csv',index_col='rank')\n",
    "\n",
    "#pd.options.display.max_rows=40"
   ]
  },
  {
   "cell_type": "markdown",
   "metadata": {},
   "source": [
    "## Analiza podatkov"
   ]
  },
  {
   "cell_type": "markdown",
   "metadata": {},
   "source": [
    "Analiziral sem različne podatke, ki se nanašajo na ratinge, države in nekatere druge lastnosti."
   ]
  },
  {
   "cell_type": "code",
   "execution_count": 99,
   "metadata": {
    "collapsed": false
   },
   "outputs": [
    {
     "data": {
      "text/plain": [
       "drzava\n",
       "ARG       2\n",
       "ARM     441\n",
       "AUT      48\n",
       "AZE     317\n",
       "BEL      27\n",
       "BIH      55\n",
       "BLR     107\n",
       "BRA      31\n",
       "BUL     264\n",
       "CAN      15\n",
       "CHN     647\n",
       "CRO      33\n",
       "CUB     175\n",
       "CYP       2\n",
       "CZE     173\n",
       "DEN     104\n",
       "EGY      15\n",
       "ENG     403\n",
       "ESP     163\n",
       "EST      13\n",
       "FIN       8\n",
       "FRA     517\n",
       "GEO     149\n",
       "GER     299\n",
       "GRE       8\n",
       "HUN     459\n",
       "INA       1\n",
       "IND     363\n",
       "IRI       2\n",
       "IRL       1\n",
       "       ... \n",
       "KAZ      46\n",
       "LAT      77\n",
       "LTU      10\n",
       "MAR       2\n",
       "MDA      93\n",
       "MKD      15\n",
       "NED     312\n",
       "NOR      99\n",
       "PAR       1\n",
       "PER      50\n",
       "PHI      46\n",
       "POL     209\n",
       "ROM      44\n",
       "ROU      49\n",
       "RUS    2521\n",
       "SCG       1\n",
       "SGP       1\n",
       "SIN       4\n",
       "SLO      53\n",
       "SRB      25\n",
       "SUI      68\n",
       "SVK      45\n",
       "SWE      10\n",
       "TJK       8\n",
       "TUR      18\n",
       "UKR     887\n",
       "USA     475\n",
       "UZB     117\n",
       "VEN      13\n",
       "VIE      84\n",
       "dtype: int64"
      ]
     },
     "execution_count": 99,
     "metadata": {},
     "output_type": "execute_result"
    }
   ],
   "source": [
    "sahisti.groupby('drzava').size()"
   ]
  },
  {
   "cell_type": "markdown",
   "metadata": {},
   "source": [
    "Najprej sem pregledal, kolikokrat so se na lestvici pojavili predstavniki posameznih držav."
   ]
  },
  {
   "cell_type": "code",
   "execution_count": 89,
   "metadata": {
    "collapsed": true
   },
   "outputs": [],
   "source": [
    "sahisti_po_drzavah=sahisti.groupby('drzava')"
   ]
  },
  {
   "cell_type": "code",
   "execution_count": 90,
   "metadata": {
    "collapsed": false
   },
   "outputs": [
    {
     "data": {
      "text/plain": [
       "drzava\n",
       "ARG    2621.000000\n",
       "ARM    2691.437642\n",
       "AUT    2673.020833\n",
       "AZE    2713.343849\n",
       "BEL    2643.444444\n",
       "BIH    2649.672727\n",
       "BLR    2653.831776\n",
       "BRA    2631.096774\n",
       "BUL    2710.651515\n",
       "CAN    2670.800000\n",
       "CHN    2692.177743\n",
       "CRO    2649.909091\n",
       "CUB    2694.531429\n",
       "CYP    2616.500000\n",
       "CZE    2684.682081\n",
       "DEN    2649.576923\n",
       "EGY    2657.933333\n",
       "ENG    2682.818859\n",
       "ESP    2695.539877\n",
       "EST    2620.461538\n",
       "FIN    2647.750000\n",
       "FRA    2681.032882\n",
       "GEO    2672.194631\n",
       "GER    2654.167224\n",
       "GRE    2617.625000\n",
       "HUN    2692.296296\n",
       "INA    2598.000000\n",
       "IND    2709.842975\n",
       "IRI    2628.000000\n",
       "IRL    2598.000000\n",
       "          ...     \n",
       "KAZ    2621.282609\n",
       "LAT    2688.298701\n",
       "LTU    2613.100000\n",
       "MAR    2610.000000\n",
       "MDA    2666.010753\n",
       "MKD    2626.933333\n",
       "NED    2678.169872\n",
       "NOR    2805.050505\n",
       "PAR    2656.000000\n",
       "PER    2662.940000\n",
       "PHI    2688.500000\n",
       "POL    2670.746411\n",
       "ROM    2641.659091\n",
       "ROU    2668.102041\n",
       "RUS    2690.921460\n",
       "SCG    2625.000000\n",
       "SGP    2651.000000\n",
       "SIN    2642.750000\n",
       "SLO    2647.452830\n",
       "SRB    2656.800000\n",
       "SUI    2643.382353\n",
       "SVK    2662.377778\n",
       "SWE    2618.900000\n",
       "TJK    2643.625000\n",
       "TUR    2637.833333\n",
       "UKR    2690.374295\n",
       "USA    2689.928421\n",
       "UZB    2686.470085\n",
       "VEN    2655.769231\n",
       "VIE    2693.285714\n",
       "Name: rating, dtype: float64"
      ]
     },
     "execution_count": 90,
     "metadata": {},
     "output_type": "execute_result"
    }
   ],
   "source": [
    "sahisti_po_drzavah['rating'].mean()"
   ]
  },
  {
   "cell_type": "markdown",
   "metadata": {},
   "source": [
    "Zgoraj so povprečni ratingi po državah."
   ]
  },
  {
   "cell_type": "code",
   "execution_count": 93,
   "metadata": {
    "collapsed": false,
    "scrolled": true
   },
   "outputs": [
    {
     "data": {
      "text/plain": [
       "<matplotlib.axes._subplots.AxesSubplot at 0x449f85b00>"
      ]
     },
     "execution_count": 93,
     "metadata": {},
     "output_type": "execute_result"
    },
    {
     "data": {
      "image/png": "[encoded data removed]",
      "text/plain": [
       "<matplotlib.figure.Figure at 0x449e8fa90>"
      ]
     },
     "metadata": {},
     "output_type": "display_data"
    }
   ],
   "source": [
    "%matplotlib inline\n",
    "\n",
    "sahisti[sahisti.rating>2700].groupby('drzava').size().plot(kind='bar')"
   ]
  },
  {
   "cell_type": "markdown",
   "metadata": {},
   "source": [
    "Na grafu je prikazano, kolikokrat je imela kakšna država predstavnika z ratingom nad 2700 točk. Tudi tukaj je krepko v vodstvu Rusija."
   ]
  },
  {
   "cell_type": "code",
   "execution_count": 95,
   "metadata": {
    "collapsed": false
   },
   "outputs": [
    {
     "data": {
      "text/plain": [
       "ime\n",
       "Anand, Viswanathan     8\n",
       "Carlsen, Magnus       64\n",
       "Kasparov, Garry       23\n",
       "Kramnik, Vladimir      1\n",
       "Topalov, Veselin      10\n",
       "dtype: int64"
      ]
     },
     "execution_count": 95,
     "metadata": {},
     "output_type": "execute_result"
    }
   ],
   "source": [
    "sahisti.loc[1].groupby('ime').size()"
   ]
  },
  {
   "cell_type": "markdown",
   "metadata": {},
   "source": [
    "V obravnavanem obdobju je kraljevalo 5 različnih šahistov. Vidimo lahko, kolikokrat je bil kdo številka ena."
   ]
  },
  {
   "cell_type": "code",
   "execution_count": 96,
   "metadata": {
    "collapsed": false
   },
   "outputs": [
    {
     "data": {
      "text/html": [
       "<div>\n",
       "<table border=\"1\" class=\"dataframe\">\n",
       "  <thead>\n",
       "    <tr style=\"text-align: right;\">\n",
       "      <th></th>\n",
       "      <th>drzava</th>\n",
       "      <th>rating</th>\n",
       "      <th>letnik</th>\n",
       "    </tr>\n",
       "    <tr>\n",
       "      <th>ime</th>\n",
       "      <th></th>\n",
       "      <th></th>\n",
       "      <th></th>\n",
       "    </tr>\n",
       "  </thead>\n",
       "  <tbody>\n",
       "    <tr>\n",
       "      <th>Anand, Viswanathan</th>\n",
       "      <td>IND</td>\n",
       "      <td>2817</td>\n",
       "      <td>1969</td>\n",
       "    </tr>\n",
       "    <tr>\n",
       "      <th>Carlsen, Magnus</th>\n",
       "      <td>NOR</td>\n",
       "      <td>2882</td>\n",
       "      <td>1990</td>\n",
       "    </tr>\n",
       "    <tr>\n",
       "      <th>Kasparov, Garry</th>\n",
       "      <td>RUS</td>\n",
       "      <td>2849</td>\n",
       "      <td>1963</td>\n",
       "    </tr>\n",
       "    <tr>\n",
       "      <th>Kramnik, Vladimir</th>\n",
       "      <td>RUS</td>\n",
       "      <td>2799</td>\n",
       "      <td>1975</td>\n",
       "    </tr>\n",
       "    <tr>\n",
       "      <th>Topalov, Veselin</th>\n",
       "      <td>BUL</td>\n",
       "      <td>2813</td>\n",
       "      <td>1975</td>\n",
       "    </tr>\n",
       "  </tbody>\n",
       "</table>\n",
       "</div>"
      ],
      "text/plain": [
       "                   drzava  rating  letnik\n",
       "ime                                      \n",
       "Anand, Viswanathan    IND    2817    1969\n",
       "Carlsen, Magnus       NOR    2882    1990\n",
       "Kasparov, Garry       RUS    2849    1963\n",
       "Kramnik, Vladimir     RUS    2799    1975\n",
       "Topalov, Veselin      BUL    2813    1975"
      ]
     },
     "execution_count": 96,
     "metadata": {},
     "output_type": "execute_result"
    }
   ],
   "source": [
    "sahisti.loc[1].groupby('ime').max()"
   ]
  },
  {
   "cell_type": "markdown",
   "metadata": {},
   "source": [
    "V tabeli so napisani njihovi podatki. V stolpcu \"rating\" je napisan najvišji rating igralca v času, ko je bil ta prvi na lestvici. Vladimir Kramnik je sicer presegel rating 2799, a takrat ni bil vodilni."
   ]
  },
  {
   "cell_type": "code",
   "execution_count": 101,
   "metadata": {
    "collapsed": false,
    "scrolled": true
   },
   "outputs": [
    {
     "data": {
      "text/plain": [
       "<matplotlib.axes._subplots.AxesSubplot at 0x44a0ac5c0>"
      ]
     },
     "execution_count": 101,
     "metadata": {},
     "output_type": "execute_result"
    },
    {
     "data": {
      "image/png": "[encoded data removed]",
      "text/plain": [
       "<matplotlib.figure.Figure at 0x44a0cca58>"
      ]
     },
     "metadata": {},
     "output_type": "display_data"
    }
   ],
   "source": [
    "%matplotlib inline\n",
    "\n",
    "\n",
    "sahisti.groupby('letnik').size().plot()"
   ]
  },
  {
   "cell_type": "markdown",
   "metadata": {},
   "source": [
    "Uspešnost posameznih letnikov rojstva. Pričakovano so najuspešnejši tekmovalci, rojeni v 80-ih letih prejšnjega stoletja. Starejši se počasi poslavljajo od vrha, mlajši pa šele prihajajo."
   ]
  },
  {
   "cell_type": "code",
   "execution_count": 97,
   "metadata": {
    "collapsed": true
   },
   "outputs": [],
   "source": [
    "sahisti_po_imenih=pd.read_csv('sahisti.csv',index_col='drzava')"
   ]
  },
  {
   "cell_type": "code",
   "execution_count": 119,
   "metadata": {
    "collapsed": false
   },
   "outputs": [
    {
     "data": {
      "text/plain": [
       "<matplotlib.axes._subplots.AxesSubplot at 0x44a1fc4e0>"
      ]
     },
     "execution_count": 119,
     "metadata": {},
     "output_type": "execute_result"
    },
    {
     "data": {
      "image/png": "[encoded data removed]",
      "text/plain": [
       "<matplotlib.figure.Figure at 0x44a16b4e0>"
      ]
     },
     "metadata": {},
     "output_type": "display_data"
    }
   ],
   "source": [
    "%matplotlib inline\n",
    "\n",
    "sahisti_po_imenih.loc['SLO'].groupby('ime').size().plot(kind='pie')"
   ]
  },
  {
   "cell_type": "markdown",
   "metadata": {},
   "source": [
    "Število pojavitev posameznih Slovencev na lestvicah."
   ]
  },
  {
   "cell_type": "code",
   "execution_count": 120,
   "metadata": {
    "collapsed": false
   },
   "outputs": [
    {
     "data": {
      "text/html": [
       "<div>\n",
       "<table border=\"1\" class=\"dataframe\">\n",
       "  <thead>\n",
       "    <tr style=\"text-align: right;\">\n",
       "      <th></th>\n",
       "      <th>rank</th>\n",
       "      <th>rating</th>\n",
       "      <th>letnik</th>\n",
       "    </tr>\n",
       "    <tr>\n",
       "      <th>ime</th>\n",
       "      <th></th>\n",
       "      <th></th>\n",
       "      <th></th>\n",
       "    </tr>\n",
       "  </thead>\n",
       "  <tbody>\n",
       "    <tr>\n",
       "      <th>Beliavsky, Alexander G</th>\n",
       "      <td>26</td>\n",
       "      <td>2622</td>\n",
       "      <td>1953</td>\n",
       "    </tr>\n",
       "    <tr>\n",
       "      <th>Lenic, Luka</th>\n",
       "      <td>87</td>\n",
       "      <td>2651</td>\n",
       "      <td>1988</td>\n",
       "    </tr>\n",
       "    <tr>\n",
       "      <th>Pavasovic, Dusko</th>\n",
       "      <td>86</td>\n",
       "      <td>2615</td>\n",
       "      <td>1976</td>\n",
       "    </tr>\n",
       "    <tr>\n",
       "      <th>Sermek, Drazen</th>\n",
       "      <td>92</td>\n",
       "      <td>2601</td>\n",
       "      <td>1969</td>\n",
       "    </tr>\n",
       "  </tbody>\n",
       "</table>\n",
       "</div>"
      ],
      "text/plain": [
       "                        rank  rating  letnik\n",
       "ime                                         \n",
       "Beliavsky, Alexander G    26    2622    1953\n",
       "Lenic, Luka               87    2651    1988\n",
       "Pavasovic, Dusko          86    2615    1976\n",
       "Sermek, Drazen            92    2601    1969"
      ]
     },
     "execution_count": 120,
     "metadata": {},
     "output_type": "execute_result"
    }
   ],
   "source": [
    "sahisti_po_imenih.loc['SLO'].groupby('ime').min()"
   ]
  },
  {
   "cell_type": "markdown",
   "metadata": {},
   "source": [
    "V zgornji tabeli nas zanima predvsem stolpec \"rank\", ki nam pove, katera je najvišja uvrstitev Slovenca na svetovni lestvici. V sosednjem stolpcu pa vidimo, da je bil najnižji potreben rating Slovenca za uvrstitev med stoterico najboljših enak 2601."
   ]
  },
  {
   "cell_type": "code",
   "execution_count": 123,
   "metadata": {
    "collapsed": false
   },
   "outputs": [
    {
     "data": {
      "text/html": [
       "<div>\n",
       "<table border=\"1\" class=\"dataframe\">\n",
       "  <thead>\n",
       "    <tr style=\"text-align: right;\">\n",
       "      <th></th>\n",
       "      <th>ime</th>\n",
       "      <th>drzava</th>\n",
       "      <th>rating</th>\n",
       "      <th>letnik</th>\n",
       "    </tr>\n",
       "    <tr>\n",
       "      <th>rank</th>\n",
       "      <th></th>\n",
       "      <th></th>\n",
       "      <th></th>\n",
       "      <th></th>\n",
       "    </tr>\n",
       "  </thead>\n",
       "  <tbody>\n",
       "    <tr>\n",
       "      <th>100</th>\n",
       "      <td>Rozentalis, Eduardas</td>\n",
       "      <td>LTU</td>\n",
       "      <td>2593</td>\n",
       "      <td>1963</td>\n",
       "    </tr>\n",
       "    <tr>\n",
       "      <th>99</th>\n",
       "      <td>Iordachescu, Viorel</td>\n",
       "      <td>MDA</td>\n",
       "      <td>2594</td>\n",
       "      <td>1977</td>\n",
       "    </tr>\n",
       "    <tr>\n",
       "      <th>99</th>\n",
       "      <td>Iordachescu, Viorel</td>\n",
       "      <td>MDA</td>\n",
       "      <td>2594</td>\n",
       "      <td>1977</td>\n",
       "    </tr>\n",
       "    <tr>\n",
       "      <th>98</th>\n",
       "      <td>Sasikiran, Krishnan</td>\n",
       "      <td>IND</td>\n",
       "      <td>2594</td>\n",
       "      <td>1981</td>\n",
       "    </tr>\n",
       "    <tr>\n",
       "      <th>100</th>\n",
       "      <td>Fominyh, Alexander</td>\n",
       "      <td>RUS</td>\n",
       "      <td>2594</td>\n",
       "      <td>1959</td>\n",
       "    </tr>\n",
       "    <tr>\n",
       "      <th>97</th>\n",
       "      <td>Lutz, Christopher</td>\n",
       "      <td>GER</td>\n",
       "      <td>2595</td>\n",
       "      <td>1971</td>\n",
       "    </tr>\n",
       "    <tr>\n",
       "      <th>100</th>\n",
       "      <td>Nunn, John D.M.</td>\n",
       "      <td>ENG</td>\n",
       "      <td>2595</td>\n",
       "      <td>1955</td>\n",
       "    </tr>\n",
       "    <tr>\n",
       "      <th>97</th>\n",
       "      <td>Lutz, Christopher</td>\n",
       "      <td>GER</td>\n",
       "      <td>2595</td>\n",
       "      <td>1971</td>\n",
       "    </tr>\n",
       "    <tr>\n",
       "      <th>98</th>\n",
       "      <td>Minasian, Artashes</td>\n",
       "      <td>ARM</td>\n",
       "      <td>2595</td>\n",
       "      <td>1967</td>\n",
       "    </tr>\n",
       "    <tr>\n",
       "      <th>99</th>\n",
       "      <td>Kozul, Zdenko</td>\n",
       "      <td>CRO</td>\n",
       "      <td>2595</td>\n",
       "      <td>1966</td>\n",
       "    </tr>\n",
       "  </tbody>\n",
       "</table>\n",
       "</div>"
      ],
      "text/plain": [
       "                       ime drzava  rating  letnik\n",
       "rank                                             \n",
       "100   Rozentalis, Eduardas    LTU    2593    1963\n",
       "99     Iordachescu, Viorel    MDA    2594    1977\n",
       "99     Iordachescu, Viorel    MDA    2594    1977\n",
       "98     Sasikiran, Krishnan    IND    2594    1981\n",
       "100     Fominyh, Alexander    RUS    2594    1959\n",
       "97       Lutz, Christopher    GER    2595    1971\n",
       "100        Nunn, John D.M.    ENG    2595    1955\n",
       "97       Lutz, Christopher    GER    2595    1971\n",
       "98      Minasian, Artashes    ARM    2595    1967\n",
       "99           Kozul, Zdenko    CRO    2595    1966"
      ]
     },
     "execution_count": 123,
     "metadata": {},
     "output_type": "execute_result"
    }
   ],
   "source": [
    "sahisti.sort_values('rating',ascending=True)[:10]"
   ]
  },
  {
   "cell_type": "markdown",
   "metadata": {},
   "source": [
    "Opazimo, da najnižji rating kateregakoli šahista, ki je zadoščal za uvrstitev med stoterico najboljših, ni bil dosti nižji."
   ]
  },
  {
   "cell_type": "code",
   "execution_count": 115,
   "metadata": {
    "collapsed": false
   },
   "outputs": [
    {
     "data": {
      "text/html": [
       "<div>\n",
       "<table border=\"1\" class=\"dataframe\">\n",
       "  <thead>\n",
       "    <tr style=\"text-align: right;\">\n",
       "      <th></th>\n",
       "      <th>ime</th>\n",
       "      <th>drzava</th>\n",
       "      <th>rating</th>\n",
       "      <th>letnik</th>\n",
       "    </tr>\n",
       "    <tr>\n",
       "      <th>rank</th>\n",
       "      <th></th>\n",
       "      <th></th>\n",
       "      <th></th>\n",
       "      <th></th>\n",
       "    </tr>\n",
       "  </thead>\n",
       "  <tbody>\n",
       "    <tr>\n",
       "      <th>1</th>\n",
       "      <td>Carlsen, Magnus</td>\n",
       "      <td>NOR</td>\n",
       "      <td>2882</td>\n",
       "      <td>1990</td>\n",
       "    </tr>\n",
       "    <tr>\n",
       "      <th>1</th>\n",
       "      <td>Carlsen, Magnus</td>\n",
       "      <td>NOR</td>\n",
       "      <td>2881</td>\n",
       "      <td>1990</td>\n",
       "    </tr>\n",
       "    <tr>\n",
       "      <th>1</th>\n",
       "      <td>Carlsen, Magnus</td>\n",
       "      <td>NOR</td>\n",
       "      <td>2881</td>\n",
       "      <td>1990</td>\n",
       "    </tr>\n",
       "    <tr>\n",
       "      <th>1</th>\n",
       "      <td>Carlsen, Magnus</td>\n",
       "      <td>NOR</td>\n",
       "      <td>2881</td>\n",
       "      <td>1990</td>\n",
       "    </tr>\n",
       "    <tr>\n",
       "      <th>1</th>\n",
       "      <td>Carlsen, Magnus</td>\n",
       "      <td>NOR</td>\n",
       "      <td>2877</td>\n",
       "      <td>1990</td>\n",
       "    </tr>\n",
       "    <tr>\n",
       "      <th>1</th>\n",
       "      <td>Carlsen, Magnus</td>\n",
       "      <td>NOR</td>\n",
       "      <td>2877</td>\n",
       "      <td>1990</td>\n",
       "    </tr>\n",
       "    <tr>\n",
       "      <th>1</th>\n",
       "      <td>Carlsen, Magnus</td>\n",
       "      <td>NOR</td>\n",
       "      <td>2876</td>\n",
       "      <td>1990</td>\n",
       "    </tr>\n",
       "    <tr>\n",
       "      <th>1</th>\n",
       "      <td>Carlsen, Magnus</td>\n",
       "      <td>NOR</td>\n",
       "      <td>2876</td>\n",
       "      <td>1990</td>\n",
       "    </tr>\n",
       "    <tr>\n",
       "      <th>1</th>\n",
       "      <td>Carlsen, Magnus</td>\n",
       "      <td>NOR</td>\n",
       "      <td>2872</td>\n",
       "      <td>1990</td>\n",
       "    </tr>\n",
       "    <tr>\n",
       "      <th>1</th>\n",
       "      <td>Carlsen, Magnus</td>\n",
       "      <td>NOR</td>\n",
       "      <td>2872</td>\n",
       "      <td>1990</td>\n",
       "    </tr>\n",
       "    <tr>\n",
       "      <th>1</th>\n",
       "      <td>Carlsen, Magnus</td>\n",
       "      <td>NOR</td>\n",
       "      <td>2872</td>\n",
       "      <td>1990</td>\n",
       "    </tr>\n",
       "    <tr>\n",
       "      <th>1</th>\n",
       "      <td>Carlsen, Magnus</td>\n",
       "      <td>NOR</td>\n",
       "      <td>2872</td>\n",
       "      <td>1990</td>\n",
       "    </tr>\n",
       "    <tr>\n",
       "      <th>1</th>\n",
       "      <td>Carlsen, Magnus</td>\n",
       "      <td>NOR</td>\n",
       "      <td>2872</td>\n",
       "      <td>1990</td>\n",
       "    </tr>\n",
       "    <tr>\n",
       "      <th>1</th>\n",
       "      <td>Carlsen, Magnus</td>\n",
       "      <td>NOR</td>\n",
       "      <td>2872</td>\n",
       "      <td>1990</td>\n",
       "    </tr>\n",
       "    <tr>\n",
       "      <th>1</th>\n",
       "      <td>Carlsen, Magnus</td>\n",
       "      <td>NOR</td>\n",
       "      <td>2870</td>\n",
       "      <td>1990</td>\n",
       "    </tr>\n",
       "    <tr>\n",
       "      <th>1</th>\n",
       "      <td>Carlsen, Magnus</td>\n",
       "      <td>NOR</td>\n",
       "      <td>2870</td>\n",
       "      <td>1990</td>\n",
       "    </tr>\n",
       "    <tr>\n",
       "      <th>1</th>\n",
       "      <td>Carlsen, Magnus</td>\n",
       "      <td>NOR</td>\n",
       "      <td>2870</td>\n",
       "      <td>1990</td>\n",
       "    </tr>\n",
       "    <tr>\n",
       "      <th>1</th>\n",
       "      <td>Carlsen, Magnus</td>\n",
       "      <td>NOR</td>\n",
       "      <td>2868</td>\n",
       "      <td>1990</td>\n",
       "    </tr>\n",
       "    <tr>\n",
       "      <th>1</th>\n",
       "      <td>Carlsen, Magnus</td>\n",
       "      <td>NOR</td>\n",
       "      <td>2865</td>\n",
       "      <td>1990</td>\n",
       "    </tr>\n",
       "    <tr>\n",
       "      <th>1</th>\n",
       "      <td>Carlsen, Magnus</td>\n",
       "      <td>NOR</td>\n",
       "      <td>2864</td>\n",
       "      <td>1990</td>\n",
       "    </tr>\n",
       "    <tr>\n",
       "      <th>1</th>\n",
       "      <td>Carlsen, Magnus</td>\n",
       "      <td>NOR</td>\n",
       "      <td>2863</td>\n",
       "      <td>1990</td>\n",
       "    </tr>\n",
       "    <tr>\n",
       "      <th>1</th>\n",
       "      <td>Carlsen, Magnus</td>\n",
       "      <td>NOR</td>\n",
       "      <td>2863</td>\n",
       "      <td>1990</td>\n",
       "    </tr>\n",
       "    <tr>\n",
       "      <th>1</th>\n",
       "      <td>Carlsen, Magnus</td>\n",
       "      <td>NOR</td>\n",
       "      <td>2863</td>\n",
       "      <td>1990</td>\n",
       "    </tr>\n",
       "    <tr>\n",
       "      <th>1</th>\n",
       "      <td>Carlsen, Magnus</td>\n",
       "      <td>NOR</td>\n",
       "      <td>2863</td>\n",
       "      <td>1990</td>\n",
       "    </tr>\n",
       "    <tr>\n",
       "      <th>1</th>\n",
       "      <td>Carlsen, Magnus</td>\n",
       "      <td>NOR</td>\n",
       "      <td>2862</td>\n",
       "      <td>1990</td>\n",
       "    </tr>\n",
       "    <tr>\n",
       "      <th>1</th>\n",
       "      <td>Carlsen, Magnus</td>\n",
       "      <td>NOR</td>\n",
       "      <td>2862</td>\n",
       "      <td>1990</td>\n",
       "    </tr>\n",
       "    <tr>\n",
       "      <th>1</th>\n",
       "      <td>Carlsen, Magnus</td>\n",
       "      <td>NOR</td>\n",
       "      <td>2862</td>\n",
       "      <td>1990</td>\n",
       "    </tr>\n",
       "    <tr>\n",
       "      <th>1</th>\n",
       "      <td>Carlsen, Magnus</td>\n",
       "      <td>NOR</td>\n",
       "      <td>2862</td>\n",
       "      <td>1990</td>\n",
       "    </tr>\n",
       "    <tr>\n",
       "      <th>1</th>\n",
       "      <td>Carlsen, Magnus</td>\n",
       "      <td>NOR</td>\n",
       "      <td>2862</td>\n",
       "      <td>1990</td>\n",
       "    </tr>\n",
       "    <tr>\n",
       "      <th>1</th>\n",
       "      <td>Carlsen, Magnus</td>\n",
       "      <td>NOR</td>\n",
       "      <td>2861</td>\n",
       "      <td>1990</td>\n",
       "    </tr>\n",
       "    <tr>\n",
       "      <th>1</th>\n",
       "      <td>Carlsen, Magnus</td>\n",
       "      <td>NOR</td>\n",
       "      <td>2857</td>\n",
       "      <td>1990</td>\n",
       "    </tr>\n",
       "    <tr>\n",
       "      <th>1</th>\n",
       "      <td>Carlsen, Magnus</td>\n",
       "      <td>NOR</td>\n",
       "      <td>2857</td>\n",
       "      <td>1990</td>\n",
       "    </tr>\n",
       "    <tr>\n",
       "      <th>1</th>\n",
       "      <td>Carlsen, Magnus</td>\n",
       "      <td>NOR</td>\n",
       "      <td>2855</td>\n",
       "      <td>1990</td>\n",
       "    </tr>\n",
       "    <tr>\n",
       "      <th>1</th>\n",
       "      <td>Carlsen, Magnus</td>\n",
       "      <td>NOR</td>\n",
       "      <td>2855</td>\n",
       "      <td>1990</td>\n",
       "    </tr>\n",
       "    <tr>\n",
       "      <th>1</th>\n",
       "      <td>Carlsen, Magnus</td>\n",
       "      <td>NOR</td>\n",
       "      <td>2853</td>\n",
       "      <td>1990</td>\n",
       "    </tr>\n",
       "    <tr>\n",
       "      <th>1</th>\n",
       "      <td>Carlsen, Magnus</td>\n",
       "      <td>NOR</td>\n",
       "      <td>2853</td>\n",
       "      <td>1990</td>\n",
       "    </tr>\n",
       "    <tr>\n",
       "      <th>1</th>\n",
       "      <td>Carlsen, Magnus</td>\n",
       "      <td>NOR</td>\n",
       "      <td>2853</td>\n",
       "      <td>1990</td>\n",
       "    </tr>\n",
       "    <tr>\n",
       "      <th>1</th>\n",
       "      <td>Carlsen, Magnus</td>\n",
       "      <td>NOR</td>\n",
       "      <td>2853</td>\n",
       "      <td>1990</td>\n",
       "    </tr>\n",
       "    <tr>\n",
       "      <th>1</th>\n",
       "      <td>Carlsen, Magnus</td>\n",
       "      <td>NOR</td>\n",
       "      <td>2851</td>\n",
       "      <td>1990</td>\n",
       "    </tr>\n",
       "    <tr>\n",
       "      <th>1</th>\n",
       "      <td>Carlsen, Magnus</td>\n",
       "      <td>NOR</td>\n",
       "      <td>2851</td>\n",
       "      <td>1990</td>\n",
       "    </tr>\n",
       "    <tr>\n",
       "      <th>1</th>\n",
       "      <td>Carlsen, Magnus</td>\n",
       "      <td>NOR</td>\n",
       "      <td>2851</td>\n",
       "      <td>1990</td>\n",
       "    </tr>\n",
       "    <tr>\n",
       "      <th>1</th>\n",
       "      <td>Carlsen, Magnus</td>\n",
       "      <td>NOR</td>\n",
       "      <td>2850</td>\n",
       "      <td>1990</td>\n",
       "    </tr>\n",
       "    <tr>\n",
       "      <th>1</th>\n",
       "      <td>Carlsen, Magnus</td>\n",
       "      <td>NOR</td>\n",
       "      <td>2850</td>\n",
       "      <td>1990</td>\n",
       "    </tr>\n",
       "    <tr>\n",
       "      <th>1</th>\n",
       "      <td>Kasparov, Garry</td>\n",
       "      <td>RUS</td>\n",
       "      <td>2849</td>\n",
       "      <td>1963</td>\n",
       "    </tr>\n",
       "    <tr>\n",
       "      <th>1</th>\n",
       "      <td>Kasparov, Garry</td>\n",
       "      <td>RUS</td>\n",
       "      <td>2849</td>\n",
       "      <td>1963</td>\n",
       "    </tr>\n",
       "    <tr>\n",
       "      <th>1</th>\n",
       "      <td>Kasparov, Garry</td>\n",
       "      <td>RUS</td>\n",
       "      <td>2849</td>\n",
       "      <td>1963</td>\n",
       "    </tr>\n",
       "    <tr>\n",
       "      <th>1</th>\n",
       "      <td>Carlsen, Magnus</td>\n",
       "      <td>NOR</td>\n",
       "      <td>2848</td>\n",
       "      <td>1990</td>\n",
       "    </tr>\n",
       "    <tr>\n",
       "      <th>1</th>\n",
       "      <td>Carlsen, Magnus</td>\n",
       "      <td>NOR</td>\n",
       "      <td>2848</td>\n",
       "      <td>1990</td>\n",
       "    </tr>\n",
       "    <tr>\n",
       "      <th>1</th>\n",
       "      <td>Kasparov, Garry</td>\n",
       "      <td>RUS</td>\n",
       "      <td>2847</td>\n",
       "      <td>1963</td>\n",
       "    </tr>\n",
       "    <tr>\n",
       "      <th>2</th>\n",
       "      <td>Caruana, Fabiano</td>\n",
       "      <td>ITA</td>\n",
       "      <td>2844</td>\n",
       "      <td>1992</td>\n",
       "    </tr>\n",
       "  </tbody>\n",
       "</table>\n",
       "</div>"
      ],
      "text/plain": [
       "                   ime drzava  rating  letnik\n",
       "rank                                         \n",
       "1      Carlsen, Magnus    NOR    2882    1990\n",
       "1      Carlsen, Magnus    NOR    2881    1990\n",
       "1      Carlsen, Magnus    NOR    2881    1990\n",
       "1      Carlsen, Magnus    NOR    2881    1990\n",
       "1      Carlsen, Magnus    NOR    2877    1990\n",
       "1      Carlsen, Magnus    NOR    2877    1990\n",
       "1      Carlsen, Magnus    NOR    2876    1990\n",
       "1      Carlsen, Magnus    NOR    2876    1990\n",
       "1      Carlsen, Magnus    NOR    2872    1990\n",
       "1      Carlsen, Magnus    NOR    2872    1990\n",
       "1      Carlsen, Magnus    NOR    2872    1990\n",
       "1      Carlsen, Magnus    NOR    2872    1990\n",
       "1      Carlsen, Magnus    NOR    2872    1990\n",
       "1      Carlsen, Magnus    NOR    2872    1990\n",
       "1      Carlsen, Magnus    NOR    2870    1990\n",
       "1      Carlsen, Magnus    NOR    2870    1990\n",
       "1      Carlsen, Magnus    NOR    2870    1990\n",
       "1      Carlsen, Magnus    NOR    2868    1990\n",
       "1      Carlsen, Magnus    NOR    2865    1990\n",
       "1      Carlsen, Magnus    NOR    2864    1990\n",
       "1      Carlsen, Magnus    NOR    2863    1990\n",
       "1      Carlsen, Magnus    NOR    2863    1990\n",
       "1      Carlsen, Magnus    NOR    2863    1990\n",
       "1      Carlsen, Magnus    NOR    2863    1990\n",
       "1      Carlsen, Magnus    NOR    2862    1990\n",
       "1      Carlsen, Magnus    NOR    2862    1990\n",
       "1      Carlsen, Magnus    NOR    2862    1990\n",
       "1      Carlsen, Magnus    NOR    2862    1990\n",
       "1      Carlsen, Magnus    NOR    2862    1990\n",
       "1      Carlsen, Magnus    NOR    2861    1990\n",
       "1      Carlsen, Magnus    NOR    2857    1990\n",
       "1      Carlsen, Magnus    NOR    2857    1990\n",
       "1      Carlsen, Magnus    NOR    2855    1990\n",
       "1      Carlsen, Magnus    NOR    2855    1990\n",
       "1      Carlsen, Magnus    NOR    2853    1990\n",
       "1      Carlsen, Magnus    NOR    2853    1990\n",
       "1      Carlsen, Magnus    NOR    2853    1990\n",
       "1      Carlsen, Magnus    NOR    2853    1990\n",
       "1      Carlsen, Magnus    NOR    2851    1990\n",
       "1      Carlsen, Magnus    NOR    2851    1990\n",
       "1      Carlsen, Magnus    NOR    2851    1990\n",
       "1      Carlsen, Magnus    NOR    2850    1990\n",
       "1      Carlsen, Magnus    NOR    2850    1990\n",
       "1      Kasparov, Garry    RUS    2849    1963\n",
       "1      Kasparov, Garry    RUS    2849    1963\n",
       "1      Kasparov, Garry    RUS    2849    1963\n",
       "1      Carlsen, Magnus    NOR    2848    1990\n",
       "1      Carlsen, Magnus    NOR    2848    1990\n",
       "1      Kasparov, Garry    RUS    2847    1963\n",
       "2     Caruana, Fabiano    ITA    2844    1992"
      ]
     },
     "execution_count": 115,
     "metadata": {},
     "output_type": "execute_result"
    }
   ],
   "source": [
    "sahisti.sort_values('rating',ascending=False)[:50]"
   ]
  },
  {
   "cell_type": "raw",
   "metadata": {},
   "source": [
    "Vidimo lahko, da na \"primerjalni lestvici vseh obdobij\" gladko v vodstvu Magnus Carlsen. Da najdemo prvega \"zasledovalca\", moramo preskočiti kar nekaj vrstic."
   ]
  },
  {
   "cell_type": "markdown",
   "metadata": {},
   "source": [
    "Omeniti moram še, da so se v tem času obdobja ratingiranja spreminjala. Na prelomu tisočletja so se spremembe ratinga beležile\n",
    "na 3 mesece, sedaj pa se vsak mesec. To gre seveda na roko tistim, ki so bili uspešnejši v zadnjem obdobju, na čelu s Carlsenom.\n",
    "Če bi bila obdobja računanja ratingov ves čas enaka, bi bili rezultati morda drugačni."
   ]
  }
 ],
 "metadata": {
  "kernelspec": {
   "display_name": "Python 3",
   "language": "python",
   "name": "python3"
  },
  "language_info": {
   "codemirror_mode": {
    "name": "ipython",
    "version": 3
   },
   "file_extension": ".py",
   "mimetype": "text/x-python",
   "name": "python",
   "nbconvert_exporter": "python",
   "pygments_lexer": "ipython3",
   "version": "3.6.0"
  }
 },
 "nbformat": 4,
 "nbformat_minor": 2
}
